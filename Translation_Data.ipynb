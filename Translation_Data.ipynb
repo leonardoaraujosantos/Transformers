{
 "cells": [
  {
   "cell_type": "markdown",
   "metadata": {},
   "source": [
    "# Loading Text Data\n",
    "\n",
    "#### TorchText\n",
    "TorchText help to load/preprocess NLP datasets, you can follow a nice tutorial [here](https://towardsdatascience.com/how-to-use-torchtext-for-neural-machine-translation-plus-hack-to-make-it-5x-faster-77f3884d95) and oficial doc is: [here](https://torchtext.readthedocs.io/en/latest/index.html)\n",
    "\n",
    "![alt text](docs/imgs/torchtext_diagram.png \"Title\")\n",
    "\n",
    "Main features of TorchText:\n",
    "* Ability to define a preprocessing pipeline\n",
    "* Batching, padding, and numericalizing (including building a vocabulary object)\n",
    "* Wrapper for dataset splits (train, validation, test)\n",
    "* Loader a custom NLP dataset\n",
    "\n",
    "#### Spacy\n",
    "It's a production library to help NLP tasks, it's main features\n",
    "* Tokenization (What we want now)\n",
    "* Part-of-speech tagging\n",
    "* Similarity\n",
    "* Serialization\n",
    "\n",
    "Spacy is a library that has been specifically built to take sentences in various languages and split them into different tokens.\n",
    "\n",
    "![alt text](docs/imgs/spacy_diagram.png \"Title\")\n",
    "\n",
    "For examples and tutorials check [here](https://spacy.io/usage/spacy-101)\n",
    "\n",
    "#### Tokenizer and Indexing\n",
    "First we need to transform our senteces into tokens and then into indexes of words.\n",
    "\n",
    "![alt text](docs/imgs/tokenizer_indexing.png \"Title\")\n",
    "\n",
    "#### Install spacy/torchtext and language support\n",
    "```bash\n",
    "pip install torchtext spacy\n",
    "# Download \n",
    "python -m spacy download en\n",
    "python -m spacy download de\n",
    "python -m spacy download fr\n",
    "python -m spacy download pt\n",
    "```\n",
    "\n",
    "#### Download Some Datasets\n",
    "``` bash\n",
    "wget http://www.statmt.org/europarl/v7/fr-en.tgz\n",
    "tar -zxvf fr-en.tgz\n",
    "```\n",
    "\n",
    "#### References\n",
    "* https://medium.com/@debanjanmahata85/natural-language-processing-with-spacy-36b90b9afa3d\n",
    "* https://spacy.io/usage/training\n",
    "* [Tutorial on TorchText](http://anie.me/On-Torchtext/)\n",
    "* https://mlexplained.com/2018/02/08/a-comprehensive-tutorial-to-torchtext/\n",
    "* https://towardsdatascience.com/use-torchtext-to-load-nlp-datasets-part-i-5da6f1c89d84\n",
    "* https://towardsdatascience.com/how-to-use-torchtext-for-neural-machine-translation-plus-hack-to-make-it-5x-faster-77f3884d95\n",
    "* https://github.com/pytorch/text\n",
    "* https://nlpforhackers.io/complete-guide-to-spacy/\n",
    "* http://www.statmt.org/europarl/\n",
    "* [Nice Sentiment Analysis using torchtext](https://medium.com/@sonicboom8/sentiment-analysis-torchtext-55fb57b1fab8)"
   ]
  },
  {
   "cell_type": "code",
   "execution_count": 1,
   "metadata": {},
   "outputs": [],
   "source": [
    "import pandas as pd\n",
    "from torchtext import data, datasets\n",
    "import spacy\n",
    "import torchtext\n",
    "from torchtext.data import Field, BucketIterator, TabularDataset\n",
    "\n",
    "# Use to split train/val\n",
    "from sklearn.model_selection import train_test_split\n",
    "\n",
    "# Download spacy class to handle english and french\n",
    "spacy_fr = spacy.load('fr')\n",
    "spacy_en = spacy.load('en')\n",
    "\n",
    "SOS_WORD = '<s>'\n",
    "EOS_WORD = '</s>'\n",
    "BLANK_WORD = \"<blank>\"\n",
    "\n",
    "MAX_LEN = 100\n",
    "MIN_FREQ = 2"
   ]
  },
  {
   "cell_type": "code",
   "execution_count": 2,
   "metadata": {},
   "outputs": [
    {
     "name": "stdout",
     "output_type": "stream",
     "text": [
      "['Hi', '!', 'my', 'name', 'is', 'Leo', ',', 'and', 'yours', '?']\n"
     ]
    }
   ],
   "source": [
    "def tokenize_fr(text):\n",
    "    return [tok.text for tok in spacy_fr.tokenizer(text)]\n",
    "\n",
    "def tokenize_en(text):\n",
    "    return [tok.text for tok in spacy_en.tokenizer(text)]\n",
    "\n",
    "print(tokenize_en('Hi! my name is Leo, and yours?'))"
   ]
  },
  {
   "cell_type": "code",
   "execution_count": 3,
   "metadata": {},
   "outputs": [],
   "source": [
    "SRC = data.Field(tokenize=tokenize_fr, pad_token=BLANK_WORD)\n",
    "TGT = data.Field(tokenize=tokenize_en, init_token = SOS_WORD, eos_token = EOS_WORD, pad_token=BLANK_WORD)"
   ]
  },
  {
   "cell_type": "markdown",
   "metadata": {},
   "source": [
    "### Load Dataset"
   ]
  },
  {
   "cell_type": "code",
   "execution_count": 4,
   "metadata": {},
   "outputs": [],
   "source": [
    "europarl_en = open('./europarl-v7.fr-en.en', encoding='utf-8').read().split('\\n')\n",
    "europarl_fr = open('./europarl-v7.fr-en.fr', encoding='utf-8').read().split('\\n')\n",
    "\n",
    "raw_data = {'English' : [line for line in europarl_en], 'French': [line for line in europarl_fr]}\n",
    "df = pd.DataFrame(raw_data, columns=[\"English\", \"French\"])\n",
    "\n",
    "# remove very long sentences and sentences where translations are \n",
    "# not of roughly equal length\n",
    "df['eng_len'] = df['English'].str.count(' ')\n",
    "df['fr_len'] = df['French'].str.count(' ')\n",
    "df = df.query('fr_len < 80 & eng_len < 80')\n",
    "df = df.query('fr_len < eng_len * 1.5 & fr_len * 1.5 > eng_len')"
   ]
  },
  {
   "cell_type": "markdown",
   "metadata": {},
   "source": [
    "#### Split Between Train/Val"
   ]
  },
  {
   "cell_type": "code",
   "execution_count": 5,
   "metadata": {},
   "outputs": [],
   "source": [
    "# create train and validation set \n",
    "train, val = train_test_split(df, test_size=0.1)"
   ]
  },
  {
   "cell_type": "markdown",
   "metadata": {},
   "source": [
    "#### Convert to CSV"
   ]
  },
  {
   "cell_type": "code",
   "execution_count": 6,
   "metadata": {},
   "outputs": [],
   "source": [
    "train.to_csv(\"train.csv\", index=False)\n",
    "val.to_csv(\"val.csv\", index=False)"
   ]
  },
  {
   "cell_type": "markdown",
   "metadata": {},
   "source": [
    "#### Create Pytorch Dataset\n",
    "Now use the spacy tokenizers and torchtext to process the dataset"
   ]
  },
  {
   "cell_type": "code",
   "execution_count": 7,
   "metadata": {},
   "outputs": [],
   "source": [
    "# Create source and target fields given the spacy tokenizers\n",
    "SRC = data.Field(tokenize=tokenize_fr, pad_token=BLANK_WORD)\n",
    "TGT = data.Field(tokenize=tokenize_en, init_token = SOS_WORD, eos_token = EOS_WORD, pad_token=BLANK_WORD)\n",
    "\n",
    "# associate the text in the 'English' column with the EN_TEXT field, # and 'French' with FR_TEXT\n",
    "data_fields = [('English', TGT), ('French', SRC)]\n",
    "train,val = data.TabularDataset.splits(path='./', train='train.csv', validation='val.csv', format='csv', fields=data_fields)\n",
    "\n",
    "# Other way..\n",
    "#train, val, test = datasets.IWSLT.splits(exts=('.fr', '.en'), fields=(SRC, TGT), \n",
    "#    filter_pred=lambda x: len(vars(x)['src']) <= MAX_LEN and len(vars(x)['trg']) <= MAX_LEN)"
   ]
  },
  {
   "cell_type": "markdown",
   "metadata": {},
   "source": [
    "#### Get indexes for all words\n",
    "This step will get an specific index for every word, this will be the embedding input."
   ]
  },
  {
   "cell_type": "code",
   "execution_count": 8,
   "metadata": {},
   "outputs": [],
   "source": [
    "SRC.build_vocab(train, val, min_freq=MIN_FREQ)\n",
    "TGT.build_vocab(train, val, min_freq=MIN_FREQ)"
   ]
  },
  {
   "cell_type": "code",
   "execution_count": 9,
   "metadata": {},
   "outputs": [
    {
     "name": "stdout",
     "output_type": "stream",
     "text": [
      "Index of word 'the\\: 5953\n"
     ]
    }
   ],
   "source": [
    "print('Index of word \\'the\\:', SRC.vocab.stoi['the'])"
   ]
  },
  {
   "cell_type": "markdown",
   "metadata": {},
   "source": [
    "#### Get an Iterator"
   ]
  },
  {
   "cell_type": "code",
   "execution_count": 10,
   "metadata": {},
   "outputs": [],
   "source": [
    "train_iter = BucketIterator(train, batch_size=10, sort_key=lambda x: len(x.French), shuffle=True)"
   ]
  },
  {
   "cell_type": "code",
   "execution_count": 11,
   "metadata": {},
   "outputs": [
    {
     "name": "stdout",
     "output_type": "stream",
     "text": [
      "tensor([[    2,     2,     2,     2,     2,     2,     2,     2,     2,     2],\n",
      "        [   52,    15,   206,    45,   143,   143,  2567,    45,    29,  2809],\n",
      "        [   12,   122,     6,    39,     5,   629,     4,    23,   587,     4],\n",
      "        [   88,    11,  4570,   219,     7,    24,    63,     8,    12,   222],\n",
      "        [   26,     4,  1357,    25,   199,    40,    59,  1270,   479,   807],\n",
      "        [  204,  2597,     9,   175,     5,     4,     9,     5,     8,   139],\n",
      "        [  297,   257,  1357,   794,  1114,    57,     4,    33,   954,     5],\n",
      "        [   11,    46,    43,    25,     8,   172,    34,  2007,   512,    24],\n",
      "        [   24,    18,     4,    19,     4,    11,    59,     5,   112,    32],\n",
      "        [   32,  1108, 16121,    41,  5645,     4,   119,    11,   219,    48],\n",
      "        [   48,     8,   851,    16,     7,  9386,    21,   109,   542,  1856],\n",
      "        [  117,     4,   122,  1055,    11,  2701,    77,    17,    10,    11],\n",
      "        [  155,    83,    11,    77,   525,    11,   175,    50,  2148,   106],\n",
      "        [   14,    14,     4,    11,     5,    17,   571,    32,     5,  2119],\n",
      "        [   82,   131,   170,    24,    47,  1107,    16,  2946,    93,  1651],\n",
      "        [    8,     5,  1317,    30,    19,   226,     4,    36,   220,  1615],\n",
      "        [ 1158,   118,    39,    23,    23,   297,  1004,    17,    73,   859],\n",
      "        [   17,     5,    18,     8,     8,     4,   951,   225,  1955,  2374],\n",
      "        [  584,   514,   780,  2040,   776,  2383,    25,     7,    62,    23],\n",
      "        [  218,   699,   653,    58,    17,    76,    13,    13, 19849,    48],\n",
      "        [  643,     5,    31,  2880,   370,     8,  2604,   466,     6,  1041],\n",
      "        [    5,     9,    55,   197,     6,    53,  1256,  1982,     3,   171],\n",
      "        [   10,    11,    60,   208,     3,   740,     7,    10,     1,     4],\n",
      "        [   40,     4,    10,   258,     1,    62,    44,     4,     1,  2526],\n",
      "        [ 6804,  1994,  3059,     9,     1,  1997,  2737,   597,     1,     7],\n",
      "        [    5,   577,     9,   197,     1,  5881,     6,     5,     1,     4],\n",
      "        [   36,    46,    11,   773,     1,    77,     3,    19,     1,  1651],\n",
      "        [  130,    18,     4,  1431,     1,    25,     1,    23,     1,   115],\n",
      "        [  802,   251,    28,     6,     1,     8,     1,    21,     1,  2128],\n",
      "        [    9,     8,    50,     3,     1,    18,     1,    48,     1,     8],\n",
      "        [   14,     4,    39,     1,     1,   213,     1,   841,     1,  1935],\n",
      "        [    4,   996,    21,     1,     1,     8,     1,   600,     1,  5472],\n",
      "        [  361,     7,    18,     1,     1,  1643,     1,    79,     1,    13],\n",
      "        [    5,     4,   440,     1,     1,  4715,     1,   263,     1,  1350],\n",
      "        [   47,  2848,    10,     1,     1,   375,     1,    17,     1,  1494],\n",
      "        [   38,     7,    17,     1,     1,    25,     1,    12,     1,    16],\n",
      "        [    4,   399,   218,     1,     1,   137,     1,     4,     1,     4],\n",
      "        [   87,  1144,     6,     1,     1,    53,     1,   147,     1,   162],\n",
      "        [    7,  2109,     3,     1,     1,     5,     1,   120,     1,     7],\n",
      "        [   68,    16,     1,     1,     1,    10,     1,   320,     1,     4],\n",
      "        [    5,   849,     1,     1,     1,    80,     1,     6,     1,   115],\n",
      "        [    8,     6,     1,     1,     1,   429,     1,     3,     1,  2128],\n",
      "        [   18,     3,     1,     1,     1,    11,     1,     1,     1,     7],\n",
      "        [ 1585,     1,     1,     1,     1,    69,     1,     1,     1,     4],\n",
      "        [    4,     1,     1,     1,     1,    76,     1,     1,     1,   465],\n",
      "        [ 2565,     1,     1,     1,     1,    23,     1,     1,     1,   411],\n",
      "        [    8,     1,     1,     1,     1,    13,     1,     1,     1,     5],\n",
      "        [  593,     1,     1,     1,     1,  1352,     1,     1,     1,    84],\n",
      "        [    9,     1,     1,     1,     1,     8,     1,     1,     1,  2562],\n",
      "        [    8,     1,     1,     1,     1,   740,     1,     1,     1,     4],\n",
      "        [  182,     1,     1,     1,     1,     5,     1,     1,     1,  1651],\n",
      "        [   81,     1,     1,     1,     1,    22,     1,     1,     1,    25],\n",
      "        [   12,     1,     1,     1,     1,   479,     1,     1,     1,   817],\n",
      "        [ 2544,     1,     1,     1,     1,    13,     1,     1,     1,     5],\n",
      "        [   62,     1,     1,     1,     1, 21108,     1,     1,     1,   263],\n",
      "        [  120,     1,     1,     1,     1,     6,     1,     1,     1,    73],\n",
      "        [    6,     1,     1,     1,     1,     3,     1,     1,     1,   119],\n",
      "        [    3,     1,     1,     1,     1,     1,     1,     1,     1,   440],\n",
      "        [    1,     1,     1,     1,     1,     1,     1,     1,     1,    10],\n",
      "        [    1,     1,     1,     1,     1,     1,     1,     1,     1,   417],\n",
      "        [    1,     1,     1,     1,     1,     1,     1,     1,     1,    61],\n",
      "        [    1,     1,     1,     1,     1,     1,     1,     1,     1,    21],\n",
      "        [    1,     1,     1,     1,     1,     1,     1,     1,     1,     6],\n",
      "        [    1,     1,     1,     1,     1,     1,     1,     1,     1,     3]])\n"
     ]
    }
   ],
   "source": [
    "batch = next(iter(train_iter))\n",
    "print(batch.English)"
   ]
  },
  {
   "cell_type": "markdown",
   "metadata": {},
   "source": [
    "#### More efficient way\n",
    "While Torchtext is brilliant, it’s sort_key based batching leaves a little to be desired. Often the sentences aren’t of the same length at all, and you end up feeding a lot of padding into your network (as you can see with all the 1s in the last figure).\n",
    "\n",
    "An efficient batching mechanism would change the batch size depending on the sequence length to make sure around 1500 tokens were being processed each iteration."
   ]
  },
  {
   "cell_type": "code",
   "execution_count": 12,
   "metadata": {},
   "outputs": [],
   "source": [
    "global max_src_in_batch, max_tgt_in_batch\n",
    "def batch_size_fn(new, count, sofar):\n",
    "    \"Keep augmenting batch and calculate total number of tokens + padding.\"\n",
    "    global max_src_in_batch, max_tgt_in_batch\n",
    "    if count == 1:\n",
    "        max_src_in_batch = 0\n",
    "        max_tgt_in_batch = 0\n",
    "    max_src_in_batch = max(max_src_in_batch,  len(new.English))\n",
    "    max_tgt_in_batch = max(max_tgt_in_batch,  len(new.French) + 2)\n",
    "    src_elements = count * max_src_in_batch\n",
    "    tgt_elements = count * max_tgt_in_batch\n",
    "    return max(src_elements, tgt_elements)\n",
    "class MyIterator(data.Iterator):\n",
    "    def create_batches(self):\n",
    "        if self.train:\n",
    "            def pool(d, random_shuffler):\n",
    "                for p in data.batch(d, self.batch_size * 100):\n",
    "                    p_batch = data.batch(\n",
    "                        sorted(p, key=self.sort_key),\n",
    "                        self.batch_size, self.batch_size_fn)\n",
    "                    for b in random_shuffler(list(p_batch)):\n",
    "                        yield b\n",
    "            self.batches = pool(self.data(), self.random_shuffler)\n",
    "            \n",
    "        else:\n",
    "            self.batches = []\n",
    "            for b in data.batch(self.data(), self.batch_size,\n",
    "                                          self.batch_size_fn):\n",
    "                self.batches.append(sorted(b, key=self.sort_key))"
   ]
  }
 ],
 "metadata": {
  "kernelspec": {
   "display_name": "Python 3",
   "language": "python",
   "name": "python3"
  },
  "language_info": {
   "codemirror_mode": {
    "name": "ipython",
    "version": 3
   },
   "file_extension": ".py",
   "mimetype": "text/x-python",
   "name": "python",
   "nbconvert_exporter": "python",
   "pygments_lexer": "ipython3",
   "version": "3.7.3"
  }
 },
 "nbformat": 4,
 "nbformat_minor": 4
}
